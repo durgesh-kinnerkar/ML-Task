{
 "cells": [
  {
   "cell_type": "markdown",
   "id": "324f4aa9",
   "metadata": {},
   "source": [
    "### Machine Learning Model Building Task"
   ]
  },
  {
   "cell_type": "code",
   "execution_count": 1,
   "id": "f685db93",
   "metadata": {},
   "outputs": [],
   "source": [
    "import pandas as pd \n",
    "import numpy as np\n",
    "import matplotlib.pyplot as plt"
   ]
  },
  {
   "cell_type": "code",
   "execution_count": 2,
   "id": "06b1c755",
   "metadata": {},
   "outputs": [],
   "source": [
    "filepath = r\"C:\\Users\\kinne\\Desktop\\Datasets\\phishing_data.csv\""
   ]
  },
  {
   "cell_type": "code",
   "execution_count": 3,
   "id": "959f2041",
   "metadata": {},
   "outputs": [],
   "source": [
    "df = pd.read_csv(filepath)"
   ]
  },
  {
   "cell_type": "markdown",
   "id": "a3b9091c",
   "metadata": {},
   "source": [
    "### Data Exploration \n",
    "\n",
    "Basic data exploration provides some fundamental information such as structure of the data, shape of the dataframe, data types of columns and count of missing values.It also suggests that the data is clean, that is, there are no missing values and all the categorical variables are already encoded. The value count of the target variable shows that the classes are balanced, that is, there is no class imbalance. This is helpful in selecting preliminary evaluation methods. For example, suppose classes are imbalanced and 99% of the websites are not phishing then a model which classifies every website as phishing has a 99% accuracy score but it will not serve our purpose. Hence, accuracy score is not a suitable metric. However, this is not the case here so accuracy score can be used as an evaluation metric for preliminary model evaluation. "
   ]
  },
  {
   "cell_type": "code",
   "execution_count": 4,
   "id": "d2766287",
   "metadata": {},
   "outputs": [
    {
     "data": {
      "text/html": [
       "<div>\n",
       "<style scoped>\n",
       "    .dataframe tbody tr th:only-of-type {\n",
       "        vertical-align: middle;\n",
       "    }\n",
       "\n",
       "    .dataframe tbody tr th {\n",
       "        vertical-align: top;\n",
       "    }\n",
       "\n",
       "    .dataframe thead th {\n",
       "        text-align: right;\n",
       "    }\n",
       "</style>\n",
       "<table border=\"1\" class=\"dataframe\">\n",
       "  <thead>\n",
       "    <tr style=\"text-align: right;\">\n",
       "      <th></th>\n",
       "      <th>having_IP_Address</th>\n",
       "      <th>URL_Length</th>\n",
       "      <th>Shortining_Service</th>\n",
       "      <th>having_At_Symbol</th>\n",
       "      <th>double_slash_redirecting</th>\n",
       "      <th>Prefix_Suffix</th>\n",
       "      <th>having_Sub_Domain</th>\n",
       "      <th>SSLfinal_State</th>\n",
       "      <th>Domain_registeration_length</th>\n",
       "      <th>Favicon</th>\n",
       "      <th>...</th>\n",
       "      <th>popUpWidnow</th>\n",
       "      <th>Iframe</th>\n",
       "      <th>age_of_domain</th>\n",
       "      <th>DNSRecord</th>\n",
       "      <th>web_traffic</th>\n",
       "      <th>Page_Rank</th>\n",
       "      <th>Google_Index</th>\n",
       "      <th>Links_pointing_to_page</th>\n",
       "      <th>Statistical_report</th>\n",
       "      <th>Result</th>\n",
       "    </tr>\n",
       "  </thead>\n",
       "  <tbody>\n",
       "    <tr>\n",
       "      <th>0</th>\n",
       "      <td>1</td>\n",
       "      <td>1</td>\n",
       "      <td>0</td>\n",
       "      <td>0</td>\n",
       "      <td>1</td>\n",
       "      <td>-1</td>\n",
       "      <td>-1</td>\n",
       "      <td>-1</td>\n",
       "      <td>0</td>\n",
       "      <td>0</td>\n",
       "      <td>...</td>\n",
       "      <td>0</td>\n",
       "      <td>0</td>\n",
       "      <td>-1</td>\n",
       "      <td>1</td>\n",
       "      <td>-1</td>\n",
       "      <td>-1</td>\n",
       "      <td>0</td>\n",
       "      <td>1</td>\n",
       "      <td>1</td>\n",
       "      <td>1</td>\n",
       "    </tr>\n",
       "    <tr>\n",
       "      <th>1</th>\n",
       "      <td>0</td>\n",
       "      <td>1</td>\n",
       "      <td>0</td>\n",
       "      <td>0</td>\n",
       "      <td>0</td>\n",
       "      <td>-1</td>\n",
       "      <td>0</td>\n",
       "      <td>1</td>\n",
       "      <td>0</td>\n",
       "      <td>0</td>\n",
       "      <td>...</td>\n",
       "      <td>0</td>\n",
       "      <td>0</td>\n",
       "      <td>-1</td>\n",
       "      <td>1</td>\n",
       "      <td>0</td>\n",
       "      <td>-1</td>\n",
       "      <td>0</td>\n",
       "      <td>1</td>\n",
       "      <td>0</td>\n",
       "      <td>1</td>\n",
       "    </tr>\n",
       "    <tr>\n",
       "      <th>2</th>\n",
       "      <td>0</td>\n",
       "      <td>0</td>\n",
       "      <td>0</td>\n",
       "      <td>0</td>\n",
       "      <td>0</td>\n",
       "      <td>-1</td>\n",
       "      <td>-1</td>\n",
       "      <td>-1</td>\n",
       "      <td>0</td>\n",
       "      <td>0</td>\n",
       "      <td>...</td>\n",
       "      <td>0</td>\n",
       "      <td>0</td>\n",
       "      <td>0</td>\n",
       "      <td>1</td>\n",
       "      <td>1</td>\n",
       "      <td>-1</td>\n",
       "      <td>0</td>\n",
       "      <td>0</td>\n",
       "      <td>1</td>\n",
       "      <td>1</td>\n",
       "    </tr>\n",
       "    <tr>\n",
       "      <th>3</th>\n",
       "      <td>0</td>\n",
       "      <td>0</td>\n",
       "      <td>0</td>\n",
       "      <td>0</td>\n",
       "      <td>0</td>\n",
       "      <td>-1</td>\n",
       "      <td>-1</td>\n",
       "      <td>-1</td>\n",
       "      <td>1</td>\n",
       "      <td>0</td>\n",
       "      <td>...</td>\n",
       "      <td>0</td>\n",
       "      <td>0</td>\n",
       "      <td>-1</td>\n",
       "      <td>1</td>\n",
       "      <td>1</td>\n",
       "      <td>-1</td>\n",
       "      <td>0</td>\n",
       "      <td>-1</td>\n",
       "      <td>0</td>\n",
       "      <td>1</td>\n",
       "    </tr>\n",
       "    <tr>\n",
       "      <th>4</th>\n",
       "      <td>0</td>\n",
       "      <td>0</td>\n",
       "      <td>1</td>\n",
       "      <td>0</td>\n",
       "      <td>0</td>\n",
       "      <td>-1</td>\n",
       "      <td>1</td>\n",
       "      <td>1</td>\n",
       "      <td>0</td>\n",
       "      <td>0</td>\n",
       "      <td>...</td>\n",
       "      <td>1</td>\n",
       "      <td>0</td>\n",
       "      <td>-1</td>\n",
       "      <td>1</td>\n",
       "      <td>0</td>\n",
       "      <td>-1</td>\n",
       "      <td>0</td>\n",
       "      <td>1</td>\n",
       "      <td>0</td>\n",
       "      <td>0</td>\n",
       "    </tr>\n",
       "  </tbody>\n",
       "</table>\n",
       "<p>5 rows × 31 columns</p>\n",
       "</div>"
      ],
      "text/plain": [
       "   having_IP_Address  URL_Length  Shortining_Service  having_At_Symbol  \\\n",
       "0                  1           1                   0                 0   \n",
       "1                  0           1                   0                 0   \n",
       "2                  0           0                   0                 0   \n",
       "3                  0           0                   0                 0   \n",
       "4                  0           0                   1                 0   \n",
       "\n",
       "   double_slash_redirecting  Prefix_Suffix  having_Sub_Domain  SSLfinal_State  \\\n",
       "0                         1             -1                 -1              -1   \n",
       "1                         0             -1                  0               1   \n",
       "2                         0             -1                 -1              -1   \n",
       "3                         0             -1                 -1              -1   \n",
       "4                         0             -1                  1               1   \n",
       "\n",
       "   Domain_registeration_length  Favicon  ...  popUpWidnow  Iframe  \\\n",
       "0                            0        0  ...            0       0   \n",
       "1                            0        0  ...            0       0   \n",
       "2                            0        0  ...            0       0   \n",
       "3                            1        0  ...            0       0   \n",
       "4                            0        0  ...            1       0   \n",
       "\n",
       "   age_of_domain  DNSRecord  web_traffic  Page_Rank  Google_Index  \\\n",
       "0             -1          1           -1         -1             0   \n",
       "1             -1          1            0         -1             0   \n",
       "2              0          1            1         -1             0   \n",
       "3             -1          1            1         -1             0   \n",
       "4             -1          1            0         -1             0   \n",
       "\n",
       "   Links_pointing_to_page  Statistical_report  Result  \n",
       "0                       1                   1       1  \n",
       "1                       1                   0       1  \n",
       "2                       0                   1       1  \n",
       "3                      -1                   0       1  \n",
       "4                       1                   0       0  \n",
       "\n",
       "[5 rows x 31 columns]"
      ]
     },
     "execution_count": 4,
     "metadata": {},
     "output_type": "execute_result"
    }
   ],
   "source": [
    "df.head()"
   ]
  },
  {
   "cell_type": "code",
   "execution_count": 5,
   "id": "a1b9eadf",
   "metadata": {},
   "outputs": [
    {
     "data": {
      "text/plain": [
       "(2456, 31)"
      ]
     },
     "execution_count": 5,
     "metadata": {},
     "output_type": "execute_result"
    }
   ],
   "source": [
    "df.shape"
   ]
  },
  {
   "cell_type": "code",
   "execution_count": 6,
   "id": "76a18a51",
   "metadata": {},
   "outputs": [
    {
     "name": "stdout",
     "output_type": "stream",
     "text": [
      "<class 'pandas.core.frame.DataFrame'>\n",
      "RangeIndex: 2456 entries, 0 to 2455\n",
      "Data columns (total 31 columns):\n",
      " #   Column                       Non-Null Count  Dtype\n",
      "---  ------                       --------------  -----\n",
      " 0   having_IP_Address            2456 non-null   int64\n",
      " 1   URL_Length                   2456 non-null   int64\n",
      " 2   Shortining_Service           2456 non-null   int64\n",
      " 3   having_At_Symbol             2456 non-null   int64\n",
      " 4   double_slash_redirecting     2456 non-null   int64\n",
      " 5   Prefix_Suffix                2456 non-null   int64\n",
      " 6   having_Sub_Domain            2456 non-null   int64\n",
      " 7   SSLfinal_State               2456 non-null   int64\n",
      " 8   Domain_registeration_length  2456 non-null   int64\n",
      " 9   Favicon                      2456 non-null   int64\n",
      " 10  port                         2456 non-null   int64\n",
      " 11  HTTPS_token                  2456 non-null   int64\n",
      " 12  Request_URL                  2456 non-null   int64\n",
      " 13  URL_of_Anchor                2456 non-null   int64\n",
      " 14  Links_in_tags                2456 non-null   int64\n",
      " 15  SFH                          2456 non-null   int64\n",
      " 16  Submitting_to_email          2456 non-null   int64\n",
      " 17  Abnormal_URL                 2456 non-null   int64\n",
      " 18  Redirect                     2456 non-null   int64\n",
      " 19  on_mouseover                 2456 non-null   int64\n",
      " 20  RightClick                   2456 non-null   int64\n",
      " 21  popUpWidnow                  2456 non-null   int64\n",
      " 22  Iframe                       2456 non-null   int64\n",
      " 23  age_of_domain                2456 non-null   int64\n",
      " 24  DNSRecord                    2456 non-null   int64\n",
      " 25  web_traffic                  2456 non-null   int64\n",
      " 26  Page_Rank                    2456 non-null   int64\n",
      " 27  Google_Index                 2456 non-null   int64\n",
      " 28  Links_pointing_to_page       2456 non-null   int64\n",
      " 29  Statistical_report           2456 non-null   int64\n",
      " 30  Result                       2456 non-null   int64\n",
      "dtypes: int64(31)\n",
      "memory usage: 594.9 KB\n"
     ]
    }
   ],
   "source": [
    "df.info()"
   ]
  },
  {
   "cell_type": "code",
   "execution_count": 7,
   "id": "ebc141a4",
   "metadata": {},
   "outputs": [
    {
     "data": {
      "text/plain": [
       "having_IP_Address              0\n",
       "URL_Length                     0\n",
       "Shortining_Service             0\n",
       "having_At_Symbol               0\n",
       "double_slash_redirecting       0\n",
       "Prefix_Suffix                  0\n",
       "having_Sub_Domain              0\n",
       "SSLfinal_State                 0\n",
       "Domain_registeration_length    0\n",
       "Favicon                        0\n",
       "port                           0\n",
       "HTTPS_token                    0\n",
       "Request_URL                    0\n",
       "URL_of_Anchor                  0\n",
       "Links_in_tags                  0\n",
       "SFH                            0\n",
       "Submitting_to_email            0\n",
       "Abnormal_URL                   0\n",
       "Redirect                       0\n",
       "on_mouseover                   0\n",
       "RightClick                     0\n",
       "popUpWidnow                    0\n",
       "Iframe                         0\n",
       "age_of_domain                  0\n",
       "DNSRecord                      0\n",
       "web_traffic                    0\n",
       "Page_Rank                      0\n",
       "Google_Index                   0\n",
       "Links_pointing_to_page         0\n",
       "Statistical_report             0\n",
       "Result                         0\n",
       "dtype: int64"
      ]
     },
     "execution_count": 7,
     "metadata": {},
     "output_type": "execute_result"
    }
   ],
   "source": [
    "df.isna().sum()"
   ]
  },
  {
   "cell_type": "code",
   "execution_count": 8,
   "id": "d66176ac",
   "metadata": {},
   "outputs": [
    {
     "data": {
      "text/plain": [
       "0    1362\n",
       "1    1094\n",
       "Name: Result, dtype: int64"
      ]
     },
     "execution_count": 8,
     "metadata": {},
     "output_type": "execute_result"
    }
   ],
   "source": [
    "df['Result'].value_counts()"
   ]
  },
  {
   "cell_type": "code",
   "execution_count": 9,
   "id": "e2ae00d1",
   "metadata": {},
   "outputs": [],
   "source": [
    "from sklearn.model_selection import cross_val_score, train_test_split, KFold\n",
    "from sklearn.neighbors import KNeighborsClassifier\n",
    "from sklearn.linear_model import LogisticRegression\n",
    "from sklearn.tree import DecisionTreeClassifier\n",
    "from sklearn.svm import SVC"
   ]
  },
  {
   "cell_type": "code",
   "execution_count": 10,
   "id": "3a8573e9",
   "metadata": {},
   "outputs": [],
   "source": [
    "X = df.drop('Result', axis=1).values\n",
    "y = df['Result'].values\n",
    "\n",
    "X_train, X_test, y_train, y_test = train_test_split(X, y, test_size=0.3, stratify=y, random_state=21)"
   ]
  },
  {
   "cell_type": "code",
   "execution_count": 11,
   "id": "4cd241af",
   "metadata": {},
   "outputs": [
    {
     "data": {
      "text/plain": [
       "(1719, 30)"
      ]
     },
     "execution_count": 11,
     "metadata": {},
     "output_type": "execute_result"
    }
   ],
   "source": [
    "X_train.shape"
   ]
  },
  {
   "cell_type": "code",
   "execution_count": 12,
   "id": "a284fb8b",
   "metadata": {},
   "outputs": [
    {
     "data": {
      "text/plain": [
       "(1719,)"
      ]
     },
     "execution_count": 12,
     "metadata": {},
     "output_type": "execute_result"
    }
   ],
   "source": [
    "y_train.shape"
   ]
  },
  {
   "cell_type": "markdown",
   "id": "ef460486",
   "metadata": {},
   "source": [
    "### Model Development\n",
    "\n",
    "A set of classification models are developed - Logistic Regression model, Support Vector Machine Model, Decision Tree Model and KNN model. The accuracy of each model is evaluated on the validation set using cross validation. A boxplot is generated to visualize the results. It is observed that the Support Vector machine model performs the best with a median accuracy of 95.81%, the median is chosen as it is less affected by the outliers. The Decision Tree classifier is close second.\n",
    "\n",
    "The test data is unused until the final model is selected and the final model is validated on this test data which is totally unseen. For model evaluation to select the best model a validation dataset is created from the training data itself using the cross validation technique. This is done to prevent data leakage and get a fair validation of the model by evaluating it on totally unseen data. "
   ]
  },
  {
   "cell_type": "code",
   "execution_count": 13,
   "id": "28ad9f05",
   "metadata": {},
   "outputs": [
    {
     "data": {
      "image/png": "[encoded data removed]",
      "text/plain": [
       "<Figure size 432x288 with 1 Axes>"
      ]
     },
     "metadata": {
      "needs_background": "light"
     },
     "output_type": "display_data"
    }
   ],
   "source": [
    "models = {\"Logistic Regression\": LogisticRegression(),\n",
    "          \"Decision Tree\": DecisionTreeClassifier(),\n",
    "          \"KNN\": KNeighborsClassifier(),\n",
    "          \"SVM\": SVC()}\n",
    "\n",
    "results = []\n",
    "\n",
    "for model in models.values():\n",
    "    kf = KFold(n_splits=6, random_state=21, shuffle=True)\n",
    "    cv_results = cross_val_score(model, X_train, y_train, cv=kf)\n",
    "    results.append(cv_results)\n",
    "    \n",
    "plt.boxplot(results, labels = models.keys())\n",
    "plt.show()"
   ]
  },
  {
   "cell_type": "code",
   "execution_count": 14,
   "id": "0badb439",
   "metadata": {},
   "outputs": [
    {
     "name": "stdout",
     "output_type": "stream",
     "text": [
      "0.9546287046287046\n",
      "0.9581150556760313\n"
     ]
    }
   ],
   "source": [
    "SVM_mean_accuracy = results[3].mean()\n",
    "SVM_median_accuracy = np.median(results[3])\n",
    "print(SVM_mean_accuracy)\n",
    "print(SVM_median_accuracy)"
   ]
  },
  {
   "cell_type": "markdown",
   "id": "ae6bbf02",
   "metadata": {},
   "source": [
    "### Ensemble Learning\n",
    "\n",
    "An ensemble learning model is developed which is basically a combination of all the individual classification models to check if it gives better performance as the ensemble learning classifier overcomes the variance of the individual models and uses majority voting to arrive at a prediction. However, there is no significant improvement in model performance."
   ]
  },
  {
   "cell_type": "code",
   "execution_count": 15,
   "id": "f5ea1a56",
   "metadata": {},
   "outputs": [],
   "source": [
    "from sklearn.ensemble import VotingClassifier\n",
    "\n",
    "logreg = LogisticRegression()\n",
    "KNN = KNeighborsClassifier()\n",
    "dtree = DecisionTreeClassifier()\n",
    "svm = SVC()\n",
    "\n",
    "classifiers = [('Logistic Regression', logreg),('Decision Tree', dtree),('KNN', KNN),('SVM', svm)]\n",
    "\n",
    "vc = VotingClassifier(estimators=classifiers)\n",
    "\n",
    "kf = KFold(n_splits=6, random_state=21, shuffle=True)\n",
    "cv_results = cross_val_score(vc, X_train, y_train, cv=kf)\n",
    "\n",
    "mean_accuracy = cv_results.mean()\n",
    "median_accuracy = np.median(cv_results)"
   ]
  },
  {
   "cell_type": "code",
   "execution_count": 16,
   "id": "4fccb6ed",
   "metadata": {},
   "outputs": [
    {
     "name": "stdout",
     "output_type": "stream",
     "text": [
      "Mean Ensemble Accuracy:0.9592825873313678\n",
      "Median Ensemble Accuracy:0.9616176506420409\n"
     ]
    }
   ],
   "source": [
    "print(\"Mean Ensemble Accuracy:{}\".format(mean_accuracy))\n",
    "print(\"Median Ensemble Accuracy:{}\".format(median_accuracy))"
   ]
  },
  {
   "cell_type": "markdown",
   "id": "14d7c1ce",
   "metadata": {},
   "source": [
    "### Bagging Classifier - SVM \n",
    "\n",
    "Bagging is used to develop a bagging classifier with SVM as the base estimator. Bagging is the machine learning techniques in which multiple machine learning models are trained on different subsets of the training data to overcome overfitting, improve the model performance by reducing variance and combine predictions from multiple models. However, in this case too there is no  significant improvement in the model performance.\n"
   ]
  },
  {
   "cell_type": "code",
   "execution_count": 17,
   "id": "0237b6af",
   "metadata": {},
   "outputs": [],
   "source": [
    "from sklearn.ensemble import BaggingClassifier \n",
    "\n",
    "bc = BaggingClassifier(base_estimator=svm, n_estimators=300, n_jobs=-1, random_state=21)\n",
    "\n",
    "kf = KFold(n_splits=6, random_state=21, shuffle=True)\n",
    "cv_results = cross_val_score(bc, X_train, y_train, cv=kf)\n",
    "\n",
    "mean_accuracy = cv_results.mean()\n",
    "median_accuracy = np.median(cv_results)"
   ]
  },
  {
   "cell_type": "code",
   "execution_count": 18,
   "id": "79614834",
   "metadata": {},
   "outputs": [
    {
     "name": "stdout",
     "output_type": "stream",
     "text": [
      "Mean Ensemble Accuracy:0.9528885748397943\n",
      "Median Ensemble Accuracy:0.9563789868667918\n"
     ]
    }
   ],
   "source": [
    "print(\"Mean Ensemble Accuracy:{}\".format(mean_accuracy))\n",
    "print(\"Median Ensemble Accuracy:{}\".format(median_accuracy))"
   ]
  },
  {
   "cell_type": "markdown",
   "id": "2ac48017",
   "metadata": {},
   "source": [
    "### Random Forest Classification \n",
    "\n",
    "A random Forest model is developed and evaluated. The Random Forest is an extension of bagging which randomizes the features used in each training subset and has decision trees as base learners. It reduces the tendency of decision trees to overfit training data by utilizing the concept of bagging and randomization. The accuracy is slightly better at 96.68%."
   ]
  },
  {
   "cell_type": "code",
   "execution_count": 19,
   "id": "1a9e9d33",
   "metadata": {},
   "outputs": [],
   "source": [
    "from sklearn.ensemble import RandomForestClassifier \n",
    "\n",
    "rf = RandomForestClassifier(n_estimators=300, random_state=21)\n",
    "\n",
    "kf = KFold(n_splits=6, random_state=21, shuffle=True)\n",
    "cv_results = cross_val_score(rf, X_train, y_train, cv=kf)\n",
    "\n",
    "mean_accuracy = cv_results.mean()\n",
    "median_accuracy = np.median(cv_results)"
   ]
  },
  {
   "cell_type": "code",
   "execution_count": 20,
   "id": "0602721e",
   "metadata": {},
   "outputs": [
    {
     "name": "stdout",
     "output_type": "stream",
     "text": [
      "Mean Ensemble Accuracy:0.9668380400087716\n",
      "Median Ensemble Accuracy:0.9668989547038327\n"
     ]
    }
   ],
   "source": [
    "print(\"Mean Ensemble Accuracy:{}\".format(mean_accuracy))\n",
    "print(\"Median Ensemble Accuracy:{}\".format(median_accuracy))"
   ]
  },
  {
   "cell_type": "markdown",
   "id": "6fca8fa3",
   "metadata": {},
   "source": [
    "### Gradient Boosting with XGBoost\n",
    "\n",
    "Finally, XGBoost is used to develop a gradient boosted model. Gradient Boosting aims to improve the model performance by training multiple machine learning models sequentially where each model learns from the mistakes of its predecessors. In general, decision trees are used as a base learner. However, it is observed that the model performance is marginally lower than the Random Forest classifier.\n"
   ]
  },
  {
   "cell_type": "code",
   "execution_count": 21,
   "id": "3cab0860",
   "metadata": {},
   "outputs": [],
   "source": [
    "import xgboost as xgb\n",
    "\n",
    "xg_classifier = xgb.XGBClassifier(n_estimators=500, seed=21)\n",
    "\n",
    "f = KFold(n_splits=6, random_state=21, shuffle=True)\n",
    "cv_results = cross_val_score(xg_classifier, X_train, y_train, cv=kf)\n",
    "\n",
    "mean_accuracy = cv_results.mean()\n",
    "median_accuracy = np.median(cv_results)"
   ]
  },
  {
   "cell_type": "code",
   "execution_count": 22,
   "id": "f438c0cf",
   "metadata": {},
   "outputs": [
    {
     "name": "stdout",
     "output_type": "stream",
     "text": [
      "Mean Ensemble Accuracy:0.9604419970273629\n",
      "Median Ensemble Accuracy:0.9615993762335225\n"
     ]
    }
   ],
   "source": [
    "print(\"Mean Ensemble Accuracy:{}\".format(mean_accuracy))\n",
    "print(\"Median Ensemble Accuracy:{}\".format(median_accuracy))"
   ]
  },
  {
   "cell_type": "markdown",
   "id": "cb7c8c45",
   "metadata": {},
   "source": [
    "### Model Validation\n",
    "\n",
    "Both the Gradient Boosted Classifier and the Random Forest Classifier are validated on the test set, which is totally unseen new data, where it is observed that the Random Forest Classifier (97.28%) significantly performs better than the Gradient Boosted Classifier (96.47%). It is observed that the hyper-tuning of parameters of the Random Forest classifier with grid search does not significantly increase the model performance and it is computationally expensive, hence not essential in this case. \n",
    "\n",
    "A detailed evaluation of the Random Forest Classifier is done on the test set. As this is a binary classification task the area under the ROC curve, confusion matrix and a classification report is obtained."
   ]
  },
  {
   "cell_type": "code",
   "execution_count": 23,
   "id": "f29bb5ff",
   "metadata": {},
   "outputs": [],
   "source": [
    "from sklearn.metrics import accuracy_score"
   ]
  },
  {
   "cell_type": "code",
   "execution_count": 24,
   "id": "0be9118e",
   "metadata": {},
   "outputs": [
    {
     "name": "stdout",
     "output_type": "stream",
     "text": [
      "0.9647218453188603\n"
     ]
    }
   ],
   "source": [
    "xg_classifier.fit(X_train, y_train)\n",
    "y_pred = xg_classifier.predict(X_test)\n",
    "\n",
    "print(accuracy_score(y_test, y_pred))"
   ]
  },
  {
   "cell_type": "code",
   "execution_count": 25,
   "id": "5eab23df",
   "metadata": {},
   "outputs": [
    {
     "name": "stdout",
     "output_type": "stream",
     "text": [
      "0.9728629579375848\n"
     ]
    }
   ],
   "source": [
    "rf.fit(X_train, y_train)\n",
    "y_pred = rf.predict(X_test)\n",
    "\n",
    "print(accuracy_score(y_test, y_pred))"
   ]
  },
  {
   "cell_type": "markdown",
   "id": "c02bf1ef",
   "metadata": {},
   "source": [
    "#### Confusion Matrix\n",
    "\n",
    "A confusion matrix is plotted and a classification report is generated which shows various model evaluation metrics such as precision, recall and F1-score. A confusion matric gives a detailed report on model performance with true positives, true negatives, false positives and false negatives. It provides a holistic view of the model perofrmance. "
   ]
  },
  {
   "cell_type": "code",
   "execution_count": 26,
   "id": "da5b8c08",
   "metadata": {},
   "outputs": [
    {
     "name": "stderr",
     "output_type": "stream",
     "text": [
      "C:\\ANACONDA\\lib\\site-packages\\sklearn\\utils\\deprecation.py:87: FutureWarning: Function plot_confusion_matrix is deprecated; Function `plot_confusion_matrix` is deprecated in 1.0 and will be removed in 1.2. Use one of the class methods: ConfusionMatrixDisplay.from_predictions or ConfusionMatrixDisplay.from_estimator.\n",
      "  warnings.warn(msg, category=FutureWarning)\n"
     ]
    },
    {
     "data": {
      "image/png": "[encoded data removed]",
      "text/plain": [
       "<Figure size 432x288 with 2 Axes>"
      ]
     },
     "metadata": {
      "needs_background": "light"
     },
     "output_type": "display_data"
    }
   ],
   "source": [
    "from sklearn.metrics import plot_confusion_matrix\n",
    "\n",
    "plot_confusion_matrix(rf, X_test, y_test)\n",
    "plt.show()"
   ]
  },
  {
   "cell_type": "markdown",
   "id": "002a4974",
   "metadata": {},
   "source": [
    "#### Classification Report "
   ]
  },
  {
   "cell_type": "code",
   "execution_count": 29,
   "id": "264b4c04",
   "metadata": {},
   "outputs": [
    {
     "name": "stdout",
     "output_type": "stream",
     "text": [
      "              precision    recall  f1-score   support\n",
      "\n",
      "           0       0.99      0.96      0.98       409\n",
      "           1       0.96      0.98      0.97       328\n",
      "\n",
      "    accuracy                           0.97       737\n",
      "   macro avg       0.97      0.97      0.97       737\n",
      "weighted avg       0.97      0.97      0.97       737\n",
      "\n"
     ]
    }
   ],
   "source": [
    "from sklearn.metrics import classification_report\n",
    "\n",
    "y_pred_probs = rf.predict_proba(X_test)[:, 1]\n",
    "\n",
    "# Calculate the classification report\n",
    "print(classification_report(y_test, y_pred))"
   ]
  },
  {
   "cell_type": "markdown",
   "id": "c6ae2ad2",
   "metadata": {},
   "source": [
    "#### Area under the ROC Curve\n",
    "\n",
    "The area under the ROC curve is basically the measure of the correct predictions for positive class. The ROC curve shows model performance at every classification threshold and it pltos True positive rate and false positive rate. The area under the ROC curve 0.9946 which is very close to the desired value of 1."
   ]
  },
  {
   "cell_type": "code",
   "execution_count": 30,
   "id": "9ffbb957",
   "metadata": {},
   "outputs": [
    {
     "name": "stdout",
     "output_type": "stream",
     "text": [
      "0.9946254994334784\n"
     ]
    }
   ],
   "source": [
    "from sklearn.metrics import roc_auc_score\n",
    "\n",
    "# Predict probabilities\n",
    "y_pred_probs = rf.predict_proba(X_test)[:, 1]\n",
    "\n",
    "# Calculate roc_auc_score\n",
    "print(roc_auc_score(y_test, y_pred_probs))"
   ]
  },
  {
   "cell_type": "markdown",
   "id": "2b4811d3",
   "metadata": {},
   "source": [
    "## Conclusion\n",
    "\n",
    "**All the evaluation metrics suggest that the model is reasonably accurate and can generate good predictions. Hence, in conclusion the Random Forest Classifier is recommended as the best model for this classification task.**\n"
   ]
  }
 ],
 "metadata": {
  "kernelspec": {
   "display_name": "Python 3 (ipykernel)",
   "language": "python",
   "name": "python3"
  },
  "language_info": {
   "codemirror_mode": {
    "name": "ipython",
    "version": 3
   },
   "file_extension": ".py",
   "mimetype": "text/x-python",
   "name": "python",
   "nbconvert_exporter": "python",
   "pygments_lexer": "ipython3",
   "version": "3.8.8"
  }
 },
 "nbformat": 4,
 "nbformat_minor": 5
}
